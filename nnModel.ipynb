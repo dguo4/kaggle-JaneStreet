{
  "nbformat": 4,
  "nbformat_minor": 0,
  "metadata": {
    "colab": {
      "name": "nnModel.ipynb",
      "provenance": [],
      "collapsed_sections": [],
      "toc_visible": true,
      "authorship_tag": "ABX9TyMFqFuXdAz/6DgtJagJk09i",
      "include_colab_link": true
    },
    "kernelspec": {
      "name": "python3",
      "display_name": "Python 3"
    }
  },
  "cells": [
    {
      "cell_type": "markdown",
      "metadata": {
        "id": "view-in-github",
        "colab_type": "text"
      },
      "source": [
        "<a href=\"https://colab.research.google.com/github/dguo4/kaggle-JaneStreet/blob/main/nnModel.ipynb\" target=\"_parent\"><img src=\"https://colab.research.google.com/assets/colab-badge.svg\" alt=\"Open In Colab\"/></a>"
      ]
    },
    {
      "cell_type": "markdown",
      "metadata": {
        "id": "T3_Vg8e9pRK2"
      },
      "source": [
        "# NN Model - Deep Learning"
      ]
    },
    {
      "cell_type": "markdown",
      "metadata": {
        "id": "gy4FtJTtrDwp"
      },
      "source": [
        "#Optimizing Neural Network Structures with Keras-Tuner"
      ]
    },
    {
      "cell_type": "code",
      "metadata": {
        "id": "cqGZKOz0rMlh"
      },
      "source": [
        "from tensorflow.keras.datasets import fashion_mnist\r\n",
        "import matplotlib.pyplot as plt\r\n"
      ],
      "execution_count": 2,
      "outputs": []
    },
    {
      "cell_type": "code",
      "metadata": {
        "colab": {
          "base_uri": "https://localhost:8080/"
        },
        "id": "liZBDWsoZWvK",
        "outputId": "6d54f330-6a6f-4353-f802-b91b3cb76de7"
      },
      "source": [
        "(x_train, y_train), (x_test, y_test) = fashion_mnist.load_data()"
      ],
      "execution_count": 3,
      "outputs": [
        {
          "output_type": "stream",
          "text": [
            "Downloading data from https://storage.googleapis.com/tensorflow/tf-keras-datasets/train-labels-idx1-ubyte.gz\n",
            "32768/29515 [=================================] - 0s 0us/step\n",
            "Downloading data from https://storage.googleapis.com/tensorflow/tf-keras-datasets/train-images-idx3-ubyte.gz\n",
            "26427392/26421880 [==============================] - 0s 0us/step\n",
            "Downloading data from https://storage.googleapis.com/tensorflow/tf-keras-datasets/t10k-labels-idx1-ubyte.gz\n",
            "8192/5148 [===============================================] - 0s 0us/step\n",
            "Downloading data from https://storage.googleapis.com/tensorflow/tf-keras-datasets/t10k-images-idx3-ubyte.gz\n",
            "4423680/4422102 [==============================] - 0s 0us/step\n"
          ],
          "name": "stdout"
        }
      ]
    },
    {
      "cell_type": "code",
      "metadata": {
        "colab": {
          "base_uri": "https://localhost:8080/",
          "height": 265
        },
        "id": "3K8PwX_8Za9r",
        "outputId": "d721e35c-946a-433f-fadd-3c0098fb362f"
      },
      "source": [
        "# 28*28 and 10 classes\r\n",
        "plt.imshow(x_train[2], cmap='gray')\r\n",
        "plt.show()"
      ],
      "execution_count": 4,
      "outputs": [
        {
          "output_type": "display_data",
          "data": {
            "image/png": "[encoded data removed]",
            "text/plain": [
              "<Figure size 432x288 with 1 Axes>"
            ]
          },
          "metadata": {
            "tags": [],
            "needs_background": "light"
          }
        }
      ]
    },
    {
      "cell_type": "code",
      "metadata": {
        "colab": {
          "base_uri": "https://localhost:8080/"
        },
        "id": "RW6Qf-wZsHoI",
        "outputId": "08ac6630-22aa-4482-f2a3-158196c4139b"
      },
      "source": [
        "x_train.shape[1:]"
      ],
      "execution_count": 8,
      "outputs": [
        {
          "output_type": "execute_result",
          "data": {
            "text/plain": [
              "(28, 28)"
            ]
          },
          "metadata": {
            "tags": []
          },
          "execution_count": 8
        }
      ]
    },
    {
      "cell_type": "code",
      "metadata": {
        "id": "D2PLum-lZluR"
      },
      "source": [
        "# !pip install keras-tuner\r\n",
        "\r\n",
        "from tensorflow import keras\r\n",
        "from tensorflow.keras.layers import Conv2D, MaxPooling2D, Dense, Flatten, Activation\r\n",
        "from kerastuner.tuners import RandomSearch\r\n",
        "from kerastuner.engine.hyperparameters import HyperParameters\r\n",
        "import time\r\n",
        "\r\n",
        "# reshape data to a CNN model\r\n",
        "\r\n",
        "LOG_DIR = f\"{int(time.time())}\"\r\n",
        "\r\n",
        "x_train = x_train.reshape(-1, 28, 28, 1)\r\n",
        "x_test = x_test.reshape(-1, 28, 28, 1)\r\n",
        "\r\n",
        "def build_model(hp):\r\n",
        "  model = keras.models.Sequential()\r\n",
        "\r\n",
        "  model.add(Conv2D(hp.Int(\"input_units\",min_value=32, max_value=256, step=32), (3, 3), input_shape=x_train.shape[1:]))\r\n",
        "  model.add(Activation('relu'))\r\n",
        "  model.add(MaxPooling2D(pool_size=(2, 2)))\r\n",
        "\r\n",
        "  for i in range(hp.Int('n_layers',1,4)):\r\n",
        "    model.add(Conv2D(hp.Int(f\"conv_{i}_units\",32,256,32), (3, 3)))\r\n",
        "    model.add(Activation('relu'))\r\n",
        "  \r\n",
        "  model.add(MaxPooling2D(pool_size=(2, 2)))\r\n",
        "\r\n",
        "  model.add(Flatten())  # this converts our 3D feature maps to 1D feature vectors\r\n",
        "\r\n",
        "  model.add(Dense(10))\r\n",
        "  model.add(Activation(\"softmax\"))\r\n",
        "\r\n",
        "  model.compile(optimizer=\"adam\",\r\n",
        "                loss=\"sparse_categorical_crossentropy\",\r\n",
        "                metrics=[\"accuracy\"])\r\n",
        "  return model\r\n",
        "\r\n"
      ],
      "execution_count": 18,
      "outputs": []
    },
    {
      "cell_type": "code",
      "metadata": {
        "colab": {
          "base_uri": "https://localhost:8080/"
        },
        "id": "7vCYJmlDty5Y",
        "outputId": "59440f0d-ebac-42d8-a783-1ed10d4bec3b"
      },
      "source": [
        "tuner = RandomSearch(\r\n",
        "    build_model, \r\n",
        "    objective=\"val_accuracy\",\r\n",
        "    max_trials=1, \r\n",
        "    executions_per_trial=1, \r\n",
        "    directory=LOG_DIR\r\n",
        ")\r\n",
        "\r\n",
        "tuner.search(x=x_train, \r\n",
        "             y=y_train, \r\n",
        "             epochs=1, \r\n",
        "             batch_size=64, \r\n",
        "             validation_data=(x_test, y_test))"
      ],
      "execution_count": 19,
      "outputs": [
        {
          "output_type": "stream",
          "text": [
            "Trial 1 Complete [00h 01m 31s]\n",
            "val_accuracy: 0.8282999992370605\n",
            "\n",
            "Best val_accuracy So Far: 0.8282999992370605\n",
            "Total elapsed time: 00h 01m 31s\n",
            "INFO:tensorflow:Oracle triggered exit\n"
          ],
          "name": "stdout"
        }
      ]
    },
    {
      "cell_type": "code",
      "metadata": {
        "colab": {
          "base_uri": "https://localhost:8080/"
        },
        "id": "jT4PAhJXuFzR",
        "outputId": "c42af5a1-f3b4-4ead-ea76-c16b897ee73e"
      },
      "source": [
        "print(tuner.get_best_hyperparameters()[0].values)"
      ],
      "execution_count": 22,
      "outputs": [
        {
          "output_type": "stream",
          "text": [
            "{'input_units': 96, 'n_layers': 1, 'conv_0_units': 32}\n"
          ],
          "name": "stdout"
        }
      ]
    },
    {
      "cell_type": "code",
      "metadata": {
        "colab": {
          "base_uri": "https://localhost:8080/"
        },
        "id": "McUSc-xbz53f",
        "outputId": "614bc568-18a9-4bb2-cca5-b646dadda98d"
      },
      "source": [
        "print(tuner.results_summary())"
      ],
      "execution_count": 23,
      "outputs": [
        {
          "output_type": "stream",
          "text": [
            "Results summary\n",
            "Results in 1608780616/untitled_project\n",
            "Showing 10 best trials\n",
            "Objective(name='val_accuracy', direction='max')\n",
            "Trial summary\n",
            "Hyperparameters:\n",
            "input_units: 96\n",
            "n_layers: 1\n",
            "conv_0_units: 32\n",
            "Score: 0.8282999992370605\n",
            "None\n"
          ],
          "name": "stdout"
        }
      ]
    },
    {
      "cell_type": "code",
      "metadata": {
        "colab": {
          "base_uri": "https://localhost:8080/"
        },
        "id": "bekOLJsn0KwP",
        "outputId": "e7add5e5-1eb8-41f7-85e0-5a28fa55364f"
      },
      "source": [
        "print(tuner.get_best_models()[0].summary())\r\n",
        "# the best model is get_best_modesl()[0]. you could directly use it to predict. "
      ],
      "execution_count": 24,
      "outputs": [
        {
          "output_type": "stream",
          "text": [
            "Model: \"sequential\"\n",
            "_________________________________________________________________\n",
            "Layer (type)                 Output Shape              Param #   \n",
            "=================================================================\n",
            "conv2d (Conv2D)              (None, 26, 26, 96)        960       \n",
            "_________________________________________________________________\n",
            "activation (Activation)      (None, 26, 26, 96)        0         \n",
            "_________________________________________________________________\n",
            "max_pooling2d (MaxPooling2D) (None, 13, 13, 96)        0         \n",
            "_________________________________________________________________\n",
            "conv2d_1 (Conv2D)            (None, 11, 11, 32)        27680     \n",
            "_________________________________________________________________\n",
            "activation_1 (Activation)    (None, 11, 11, 32)        0         \n",
            "_________________________________________________________________\n",
            "max_pooling2d_1 (MaxPooling2 (None, 5, 5, 32)          0         \n",
            "_________________________________________________________________\n",
            "flatten (Flatten)            (None, 800)               0         \n",
            "_________________________________________________________________\n",
            "dense (Dense)                (None, 10)                8010      \n",
            "_________________________________________________________________\n",
            "activation_2 (Activation)    (None, 10)                0         \n",
            "=================================================================\n",
            "Total params: 36,650\n",
            "Trainable params: 36,650\n",
            "Non-trainable params: 0\n",
            "_________________________________________________________________\n",
            "WARNING:tensorflow:Unresolved object in checkpoint: (root).optimizer.iter\n",
            "WARNING:tensorflow:Unresolved object in checkpoint: (root).optimizer.beta_1\n",
            "WARNING:tensorflow:Unresolved object in checkpoint: (root).optimizer.beta_2\n",
            "WARNING:tensorflow:Unresolved object in checkpoint: (root).optimizer.decay\n",
            "WARNING:tensorflow:Unresolved object in checkpoint: (root).optimizer.learning_rate\n",
            "WARNING:tensorflow:A checkpoint was restored (e.g. tf.train.Checkpoint.restore or tf.keras.Model.load_weights) but not all checkpointed values were used. See above for specific issues. Use expect_partial() on the load status object, e.g. tf.train.Checkpoint.restore(...).expect_partial(), to silence these warnings, or use assert_consumed() to make the check explicit. See https://www.tensorflow.org/guide/checkpoint#loading_mechanics for details.\n",
            "None\n"
          ],
          "name": "stdout"
        }
      ]
    },
    {
      "cell_type": "code",
      "metadata": {
        "id": "jIOR02GK0U0F"
      },
      "source": [
        ""
      ],
      "execution_count": null,
      "outputs": []
    }
  ]
}